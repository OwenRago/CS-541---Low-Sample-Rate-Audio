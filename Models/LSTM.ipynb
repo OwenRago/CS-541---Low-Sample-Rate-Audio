{
 "cells": [
  {
   "cell_type": "code",
   "execution_count": null,
   "id": "73a50c16-70c2-471a-a357-20dc638cfbb6",
   "metadata": {},
   "outputs": [],
   "source": [
    "import os\n",
    "import random\n",
    "import numpy as np\n",
    "from tqdm import tqdm\n",
    "\n",
    "import torch\n",
    "import torch.nn as nn\n",
    "import torch.optim as optim\n",
    "from torch.utils.data import Dataset, DataLoader, Subset\n",
    "\n",
    "BASE_DIR = r\"\"\n",
    "DATASETS = [\"2k\", \"4k\", \"8k\", \"16k\", \"22k\"]\n",
    "FREQ_BINS = [129, 257, 513, 1025, 1376]\n",
    "NUM_CLASSES = 10\n",
    "TRAIN_SAMPLES = 20000\n",
    "TEST_SAMPLES  = 1000\n",
    "BATCH_SIZE    = 128\n",
    "# LEARNING_RATE = 1e-3\n",
    "LEARNING_RATE = 1e-4\n",
    "DEVICE        = torch.device(\"cuda\" if torch.cuda.is_available() else \"cpu\")"
   ]
  },
  {
   "cell_type": "code",
   "execution_count": 2,
   "id": "75d15e12-5489-4e73-a68c-bbec86b4fc19",
   "metadata": {},
   "outputs": [
    {
     "name": "stdout",
     "output_type": "stream",
     "text": [
      "cuda\n"
     ]
    }
   ],
   "source": [
    "print(DEVICE)"
   ]
  },
  {
   "cell_type": "code",
   "execution_count": 3,
   "id": "17f0aaa1-8d3d-4748-8f05-36563443f6c1",
   "metadata": {},
   "outputs": [],
   "source": [
    "class SpectrogramDataset(Dataset):\n",
    "    def __init__(self, file_list):\n",
    "        self.file_list = file_list\n",
    "\n",
    "    def __len__(self):\n",
    "        return len(self.file_list)\n",
    "\n",
    "    def __getitem__(self, idx):\n",
    "        path = self.file_list[idx]\n",
    "        class_num = int(path.split(\"/\")[-1].split(\"_\")[0])\n",
    "        spec = np.load(path)\n",
    "        spec = torch.from_numpy(spec).float()\n",
    "        spec = spec.T\n",
    "        # spec = spec.unsqueeze(0)\n",
    "        return spec, class_num"
   ]
  },
  {
   "cell_type": "code",
   "execution_count": 4,
   "id": "d15dcde8-9985-4715-9e77-17b4e6289973",
   "metadata": {},
   "outputs": [],
   "source": [
    "class LSTM(nn.Module):\n",
    "    def __init__(self, freq_bins = -1, num_classes=NUM_CLASSES, model_scaler = 1):\n",
    "        super().__init__()\n",
    "        self.first_neurons = freq_bins*model_scaler*2\n",
    "        self.second_neurons = freq_bins*model_scaler*4\n",
    "\n",
    "        self.features = nn.LSTM(freq_bins, self.first_neurons, num_layers = 2, batch_first = True, dropout = 0.2)\n",
    "        \n",
    "        # classifier\n",
    "        # after pooling batch, 32, 1, 1\n",
    "        self.classifier = nn.Sequential(\n",
    "            nn.Flatten(),\n",
    "            nn.Linear(self.first_neurons, self.second_neurons),\n",
    "            nn.ReLU(inplace=True),\n",
    "            nn.Linear(self.second_neurons, num_classes)\n",
    "        )\n",
    "\n",
    "    def forward(self, x):\n",
    "        output, (hn, cn) = self.features(x)       # X is batch B, L, Hin\n",
    "        x = self.classifier(output[:, -1, :])     # batch, num_classes\n",
    "        return x"
   ]
  },
  {
   "cell_type": "code",
   "execution_count": 5,
   "id": "682cfc48-232a-43b0-87f8-63039abaded1",
   "metadata": {},
   "outputs": [],
   "source": [
    "def train_one_epoch(model, loader, criterion, optimizer):\n",
    "    model.train()\n",
    "    running_loss = 0.0\n",
    "    for inputs, targets in tqdm(loader):\n",
    "        inputs, targets = inputs.to(DEVICE, non_blocking=True), targets.to(DEVICE, non_blocking=True)\n",
    "        optimizer.zero_grad()\n",
    "        outputs = model.forward(inputs)\n",
    "        loss = criterion(outputs, targets)\n",
    "        loss.backward()\n",
    "        optimizer.step()\n",
    "        running_loss += loss.item() * inputs.size(0)\n",
    "    return running_loss / len(loader.dataset)"
   ]
  },
  {
   "cell_type": "code",
   "execution_count": 6,
   "id": "d37d4c14-f042-4da0-926c-28e4585bc3c5",
   "metadata": {},
   "outputs": [],
   "source": [
    "import time\n",
    "\n",
    "def evaluate(model, loader):\n",
    "    with torch.no_grad():\n",
    "        model.eval()\n",
    "        correct = 0\n",
    "        total = 0\n",
    "        for inputs, targets in loader:\n",
    "            inputs, targets = inputs.to(DEVICE), targets.to(DEVICE)\n",
    "            outputs = model(inputs)\n",
    "            preds = outputs.argmax(dim=1)\n",
    "            correct += (preds == targets).sum().item()\n",
    "            total += targets.size(0)\n",
    "        return correct / total\n",
    "\n",
    "def run_for_dataset(name, idx = -1, skip = False, EPOCHS = 10, model_scaler=1):\n",
    "    folder = os.path.join(BASE_DIR, name)\n",
    "    for root, dirs, files in os.walk(folder, topdown=True):\n",
    "        all_files = [folder + \"/\" + file for file in files]\n",
    "    random.shuffle(all_files)\n",
    "    assert len(all_files) >= TRAIN_SAMPLES + TEST_SAMPLES, \\\n",
    "        f\"Not enough samples in {folder}\"\n",
    "\n",
    "    train_files = all_files[:TRAIN_SAMPLES]\n",
    "    test_files  = all_files[TRAIN_SAMPLES:TRAIN_SAMPLES + TEST_SAMPLES]\n",
    "    print(\"Getting Datasets\")\n",
    "    train_ds = SpectrogramDataset(train_files)\n",
    "    test_ds  = SpectrogramDataset(test_files)\n",
    "    print(\"Making Dataloaders\")\n",
    "    train_loader = DataLoader(train_ds, batch_size=BATCH_SIZE, shuffle=True,  num_workers=0)\n",
    "    test_loader  = DataLoader(test_ds,  batch_size=BATCH_SIZE, shuffle=False, num_workers=0)\n",
    "\n",
    "    model = LSTM(freq_bins = FREQ_BINS[i],model_scaler=model_scaler).to(DEVICE)\n",
    "    criterion = nn.CrossEntropyLoss()\n",
    "    optimizer = optim.Adam(model.parameters(), lr=LEARNING_RATE)\n",
    "\n",
    "    print(f\"Training on {name}: {TRAIN_SAMPLES} samples\")\n",
    "    epoch_acc = []\n",
    "    train_times = []\n",
    "    test_times = []\n",
    "    for epoch in range(1, EPOCHS+1):\n",
    "        time1 = time.time()\n",
    "        loss = train_one_epoch(model, train_loader, criterion, optimizer)\n",
    "        time2 = time.time()\n",
    "        acc  = evaluate(model, test_loader)\n",
    "        time3 = time.time()\n",
    "        train_time = time2 - time1\n",
    "        test_time = time3 - time2\n",
    "        epoch_acc.append(acc)\n",
    "        print(f\"Epoch {epoch:2d} | loss: {loss:.4f} | test acc: {acc*100:5.2f}%\")\n",
    "        train_times.append(train_time)\n",
    "        test_times.append(test_time)\n",
    "\n",
    "    acc = evaluate(model, test_loader)\n",
    "    print(f\"Final test accuracy on {name}: {acc*100:.2f}%\")\n",
    "    return epoch_acc, train_times, test_times"
   ]
  },
  {
   "cell_type": "code",
   "execution_count": null,
   "id": "c69b3b3a-c063-4fe2-86b0-eef9f6b4c083",
   "metadata": {},
   "outputs": [
    {
     "name": "stdout",
     "output_type": "stream",
     "text": [
      "Model size 2\n",
      "Dataset 2k\n",
      "Getting Datasets\n",
      "Making Dataloaders\n",
      "Training on 2k: 20000 samples\n"
     ]
    },
    {
     "name": "stderr",
     "output_type": "stream",
     "text": [
      "100%|████████████████████████████████████████████████████████████████████████████████| 157/157 [04:40<00:00,  1.78s/it]\n"
     ]
    },
    {
     "name": "stdout",
     "output_type": "stream",
     "text": [
      "Epoch  1 | loss: 1.6917 | test acc: 59.10%\n"
     ]
    },
    {
     "name": "stderr",
     "output_type": "stream",
     "text": [
      "100%|████████████████████████████████████████████████████████████████████████████████| 157/157 [00:17<00:00,  8.98it/s]\n"
     ]
    },
    {
     "name": "stdout",
     "output_type": "stream",
     "text": [
      "Epoch  2 | loss: 1.2265 | test acc: 62.30%\n"
     ]
    },
    {
     "name": "stderr",
     "output_type": "stream",
     "text": [
      "100%|████████████████████████████████████████████████████████████████████████████████| 157/157 [00:18<00:00,  8.62it/s]\n"
     ]
    },
    {
     "name": "stdout",
     "output_type": "stream",
     "text": [
      "Epoch  3 | loss: 1.0298 | test acc: 61.10%\n"
     ]
    },
    {
     "name": "stderr",
     "output_type": "stream",
     "text": [
      "100%|████████████████████████████████████████████████████████████████████████████████| 157/157 [00:19<00:00,  8.05it/s]\n"
     ]
    },
    {
     "name": "stdout",
     "output_type": "stream",
     "text": [
      "Epoch  4 | loss: 0.9073 | test acc: 70.90%\n"
     ]
    },
    {
     "name": "stderr",
     "output_type": "stream",
     "text": [
      "100%|████████████████████████████████████████████████████████████████████████████████| 157/157 [00:18<00:00,  8.55it/s]\n"
     ]
    },
    {
     "name": "stdout",
     "output_type": "stream",
     "text": [
      "Epoch  5 | loss: 0.8034 | test acc: 75.60%\n"
     ]
    },
    {
     "name": "stderr",
     "output_type": "stream",
     "text": [
      "100%|████████████████████████████████████████████████████████████████████████████████| 157/157 [00:17<00:00,  9.13it/s]\n"
     ]
    },
    {
     "name": "stdout",
     "output_type": "stream",
     "text": [
      "Epoch  6 | loss: 0.7133 | test acc: 75.60%\n"
     ]
    },
    {
     "name": "stderr",
     "output_type": "stream",
     "text": [
      "100%|████████████████████████████████████████████████████████████████████████████████| 157/157 [00:19<00:00,  8.24it/s]\n"
     ]
    },
    {
     "name": "stdout",
     "output_type": "stream",
     "text": [
      "Epoch  7 | loss: 0.6574 | test acc: 77.80%\n"
     ]
    },
    {
     "name": "stderr",
     "output_type": "stream",
     "text": [
      "100%|████████████████████████████████████████████████████████████████████████████████| 157/157 [00:18<00:00,  8.37it/s]\n"
     ]
    },
    {
     "name": "stdout",
     "output_type": "stream",
     "text": [
      "Epoch  8 | loss: 0.5865 | test acc: 78.60%\n"
     ]
    },
    {
     "name": "stderr",
     "output_type": "stream",
     "text": [
      "100%|████████████████████████████████████████████████████████████████████████████████| 157/157 [00:17<00:00,  9.20it/s]\n"
     ]
    },
    {
     "name": "stdout",
     "output_type": "stream",
     "text": [
      "Epoch  9 | loss: 0.5500 | test acc: 81.20%\n"
     ]
    },
    {
     "name": "stderr",
     "output_type": "stream",
     "text": [
      "100%|████████████████████████████████████████████████████████████████████████████████| 157/157 [00:17<00:00,  8.79it/s]\n"
     ]
    },
    {
     "name": "stdout",
     "output_type": "stream",
     "text": [
      "Epoch 10 | loss: 0.5107 | test acc: 83.50%\n",
      "Final test accuracy on 2k: 83.50%\n",
      "Dataset 4k\n",
      "Getting Datasets\n",
      "Making Dataloaders\n",
      "Training on 4k: 20000 samples\n"
     ]
    },
    {
     "name": "stderr",
     "output_type": "stream",
     "text": [
      "100%|████████████████████████████████████████████████████████████████████████████████| 157/157 [05:40<00:00,  2.17s/it]\n"
     ]
    },
    {
     "name": "stdout",
     "output_type": "stream",
     "text": [
      "Epoch  1 | loss: 1.5590 | test acc: 56.10%\n"
     ]
    },
    {
     "name": "stderr",
     "output_type": "stream",
     "text": [
      "100%|████████████████████████████████████████████████████████████████████████████████| 157/157 [00:19<00:00,  8.04it/s]\n"
     ]
    },
    {
     "name": "stdout",
     "output_type": "stream",
     "text": [
      "Epoch  2 | loss: 1.1458 | test acc: 62.90%\n"
     ]
    },
    {
     "name": "stderr",
     "output_type": "stream",
     "text": [
      "100%|████████████████████████████████████████████████████████████████████████████████| 157/157 [00:19<00:00,  7.92it/s]\n"
     ]
    },
    {
     "name": "stdout",
     "output_type": "stream",
     "text": [
      "Epoch  3 | loss: 0.9532 | test acc: 69.60%\n"
     ]
    },
    {
     "name": "stderr",
     "output_type": "stream",
     "text": [
      "100%|████████████████████████████████████████████████████████████████████████████████| 157/157 [00:19<00:00,  7.98it/s]\n"
     ]
    },
    {
     "name": "stdout",
     "output_type": "stream",
     "text": [
      "Epoch  4 | loss: 0.8150 | test acc: 73.10%\n"
     ]
    },
    {
     "name": "stderr",
     "output_type": "stream",
     "text": [
      "100%|████████████████████████████████████████████████████████████████████████████████| 157/157 [00:20<00:00,  7.77it/s]\n"
     ]
    },
    {
     "name": "stdout",
     "output_type": "stream",
     "text": [
      "Epoch  5 | loss: 0.7300 | test acc: 78.30%\n"
     ]
    },
    {
     "name": "stderr",
     "output_type": "stream",
     "text": [
      "100%|████████████████████████████████████████████████████████████████████████████████| 157/157 [00:19<00:00,  8.08it/s]\n"
     ]
    },
    {
     "name": "stdout",
     "output_type": "stream",
     "text": [
      "Epoch  6 | loss: 0.6621 | test acc: 75.10%\n"
     ]
    },
    {
     "name": "stderr",
     "output_type": "stream",
     "text": [
      "100%|████████████████████████████████████████████████████████████████████████████████| 157/157 [00:19<00:00,  8.02it/s]\n"
     ]
    },
    {
     "name": "stdout",
     "output_type": "stream",
     "text": [
      "Epoch  7 | loss: 0.5839 | test acc: 80.00%\n"
     ]
    },
    {
     "name": "stderr",
     "output_type": "stream",
     "text": [
      "100%|████████████████████████████████████████████████████████████████████████████████| 157/157 [00:21<00:00,  7.23it/s]\n"
     ]
    },
    {
     "name": "stdout",
     "output_type": "stream",
     "text": [
      "Epoch  8 | loss: 0.5330 | test acc: 81.10%\n"
     ]
    },
    {
     "name": "stderr",
     "output_type": "stream",
     "text": [
      "100%|████████████████████████████████████████████████████████████████████████████████| 157/157 [00:23<00:00,  6.67it/s]\n"
     ]
    },
    {
     "name": "stdout",
     "output_type": "stream",
     "text": [
      "Epoch  9 | loss: 0.4763 | test acc: 82.10%\n"
     ]
    },
    {
     "name": "stderr",
     "output_type": "stream",
     "text": [
      "100%|████████████████████████████████████████████████████████████████████████████████| 157/157 [00:18<00:00,  8.30it/s]\n"
     ]
    },
    {
     "name": "stdout",
     "output_type": "stream",
     "text": [
      "Epoch 10 | loss: 0.4220 | test acc: 82.30%\n",
      "Final test accuracy on 4k: 82.30%\n",
      "Dataset 8k\n",
      "Getting Datasets\n",
      "Making Dataloaders\n",
      "Training on 8k: 20000 samples\n"
     ]
    },
    {
     "name": "stderr",
     "output_type": "stream",
     "text": [
      "100%|████████████████████████████████████████████████████████████████████████████████| 157/157 [06:46<00:00,  2.59s/it]\n"
     ]
    },
    {
     "name": "stdout",
     "output_type": "stream",
     "text": [
      "Epoch  1 | loss: 1.6169 | test acc: 51.90%\n"
     ]
    },
    {
     "name": "stderr",
     "output_type": "stream",
     "text": [
      "100%|████████████████████████████████████████████████████████████████████████████████| 157/157 [00:41<00:00,  3.82it/s]\n"
     ]
    },
    {
     "name": "stdout",
     "output_type": "stream",
     "text": [
      "Epoch  2 | loss: 1.2191 | test acc: 60.50%\n"
     ]
    },
    {
     "name": "stderr",
     "output_type": "stream",
     "text": [
      "100%|████████████████████████████████████████████████████████████████████████████████| 157/157 [00:41<00:00,  3.81it/s]\n"
     ]
    },
    {
     "name": "stdout",
     "output_type": "stream",
     "text": [
      "Epoch  3 | loss: 1.0784 | test acc: 69.70%\n"
     ]
    },
    {
     "name": "stderr",
     "output_type": "stream",
     "text": [
      "100%|████████████████████████████████████████████████████████████████████████████████| 157/157 [00:41<00:00,  3.74it/s]\n"
     ]
    },
    {
     "name": "stdout",
     "output_type": "stream",
     "text": [
      "Epoch  4 | loss: 0.9298 | test acc: 70.40%\n"
     ]
    },
    {
     "name": "stderr",
     "output_type": "stream",
     "text": [
      "100%|████████████████████████████████████████████████████████████████████████████████| 157/157 [00:41<00:00,  3.82it/s]\n"
     ]
    },
    {
     "name": "stdout",
     "output_type": "stream",
     "text": [
      "Epoch  5 | loss: 0.8724 | test acc: 70.10%\n"
     ]
    },
    {
     "name": "stderr",
     "output_type": "stream",
     "text": [
      "100%|████████████████████████████████████████████████████████████████████████████████| 157/157 [00:40<00:00,  3.85it/s]\n"
     ]
    },
    {
     "name": "stdout",
     "output_type": "stream",
     "text": [
      "Epoch  6 | loss: 0.7677 | test acc: 74.90%\n"
     ]
    },
    {
     "name": "stderr",
     "output_type": "stream",
     "text": [
      "100%|████████████████████████████████████████████████████████████████████████████████| 157/157 [00:41<00:00,  3.81it/s]\n"
     ]
    },
    {
     "name": "stdout",
     "output_type": "stream",
     "text": [
      "Epoch  7 | loss: 0.6929 | test acc: 78.80%\n"
     ]
    },
    {
     "name": "stderr",
     "output_type": "stream",
     "text": [
      "100%|████████████████████████████████████████████████████████████████████████████████| 157/157 [00:41<00:00,  3.78it/s]\n"
     ]
    },
    {
     "name": "stdout",
     "output_type": "stream",
     "text": [
      "Epoch  8 | loss: 0.6413 | test acc: 79.60%\n"
     ]
    },
    {
     "name": "stderr",
     "output_type": "stream",
     "text": [
      "100%|████████████████████████████████████████████████████████████████████████████████| 157/157 [00:41<00:00,  3.79it/s]\n"
     ]
    },
    {
     "name": "stdout",
     "output_type": "stream",
     "text": [
      "Epoch  9 | loss: 0.5985 | test acc: 74.60%\n"
     ]
    },
    {
     "name": "stderr",
     "output_type": "stream",
     "text": [
      "100%|████████████████████████████████████████████████████████████████████████████████| 157/157 [00:41<00:00,  3.81it/s]\n"
     ]
    },
    {
     "name": "stdout",
     "output_type": "stream",
     "text": [
      "Epoch 10 | loss: 0.5427 | test acc: 81.30%\n",
      "Final test accuracy on 8k: 81.30%\n",
      "Dataset 16k\n",
      "Getting Datasets\n",
      "Making Dataloaders\n",
      "Training on 16k: 20000 samples\n"
     ]
    },
    {
     "name": "stderr",
     "output_type": "stream",
     "text": [
      "100%|████████████████████████████████████████████████████████████████████████████████| 157/157 [44:34<00:00, 17.03s/it]\n"
     ]
    },
    {
     "name": "stdout",
     "output_type": "stream",
     "text": [
      "Epoch  1 | loss: 1.8137 | test acc: 34.00%\n"
     ]
    },
    {
     "name": "stderr",
     "output_type": "stream",
     "text": [
      "  3%|██                                                                                | 4/157 [00:55<35:42, 14.00s/it]"
     ]
    }
   ],
   "source": [
    "LEARNING_RATE = 1e-4\n",
    "BATCH_SIZE    = 128\n",
    "if __name__ == \"__main__\":\n",
    "    model_accs = []\n",
    "    model_train = []\n",
    "    model_test = []\n",
    "    for model_scale in [2]:\n",
    "        print(f\"Model size {model_scale}\")\n",
    "        epoch_accs = []\n",
    "        epoch_trains = []\n",
    "        epoch_tests = []\n",
    "        for i in range(len(DATASETS)):\n",
    "            ds = DATASETS[i]\n",
    "            print(f\"Dataset {ds}\")\n",
    "            epoch_acc, epoch_train, epoch_test = run_for_dataset(ds, idx = i, EPOCHS=10, model_scaler=model_scale)\n",
    "            epoch_accs.append(epoch_acc)\n",
    "            epoch_trains.append(epoch_train)\n",
    "            epoch_tests.append(epoch_test)\n",
    "        model_accs.append(epoch_accs)\n",
    "        model_train.append(epoch_trains)\n",
    "        model_test.append(epoch_tests)\n",
    "# best, lr = 1e-4, bs = 128, model_scale = 4, 84% after 10 epochs, dropout = 0.1"
   ]
  },
  {
   "cell_type": "code",
   "execution_count": null,
   "id": "4a5fa3d5-7e29-436e-8db5-be65d3f1a4a0",
   "metadata": {},
   "outputs": [],
   "source": [
    "print(np.array(model_train).shape)\n",
    "print(np.array(model_test).shape)\n",
    "print(np.array(model_accs).shape)\n",
    "with open(\"LSTM_perf_data_2.npy\", 'wb') as f:\n",
    "    np.save(f, np.array(model_accs))\n",
    "with open(\"LSTM_train_data_2.npy\", 'wb') as f:\n",
    "    np.save(f, np.array(model_train))\n",
    "with open(\"LSTM_inference_data_2.npy\", 'wb') as f:\n",
    "    np.save(f, np.array(model_test))"
   ]
  }
 ],
 "metadata": {
  "kernelspec": {
   "display_name": "Python 3 (ipykernel)",
   "language": "python",
   "name": "python3"
  },
  "language_info": {
   "codemirror_mode": {
    "name": "ipython",
    "version": 3
   },
   "file_extension": ".py",
   "mimetype": "text/x-python",
   "name": "python",
   "nbconvert_exporter": "python",
   "pygments_lexer": "ipython3",
   "version": "3.9.19"
  }
 },
 "nbformat": 4,
 "nbformat_minor": 5
}
